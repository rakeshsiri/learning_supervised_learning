{
 "cells": [
  {
   "cell_type": "code",
   "execution_count": 2,
   "metadata": {},
   "outputs": [],
   "source": [
    "import pandas as pd\n",
    "import numpy as np\n",
    "import matplotlib.pyplot as plt\n",
    "%matplotlib inline"
   ]
  },
  {
   "cell_type": "markdown",
   "metadata": {},
   "source": [
    "# Mini Batch Gradient Descent"
   ]
  },
  {
   "cell_type": "code",
   "execution_count": 124,
   "metadata": {},
   "outputs": [],
   "source": []
  },
  {
   "cell_type": "code",
   "execution_count": 122,
   "metadata": {},
   "outputs": [],
   "source": [
    "# perform gradient descent\n",
    "data = np.loadtxt('mbgdData.csv', delimiter = ',')\n",
    "X = data[:,:-1]\n",
    "y = data[:,-1]\n",
    "# regression_coef = miniBatchGD(X, y)\n"
   ]
  },
  {
   "cell_type": "code",
   "execution_count": 120,
   "metadata": {},
   "outputs": [
    {
     "ename": "NameError",
     "evalue": "name 'X' is not defined",
     "output_type": "error",
     "traceback": [
      "\u001b[1;31m---------------------------------------------------------------------------\u001b[0m",
      "\u001b[1;31mNameError\u001b[0m                                 Traceback (most recent call last)",
      "\u001b[1;32m<ipython-input-120-78eed1fc974c>\u001b[0m in \u001b[0;36m<module>\u001b[1;34m()\u001b[0m\n\u001b[0;32m      1\u001b[0m \u001b[0mplt\u001b[0m\u001b[1;33m.\u001b[0m\u001b[0mfigure\u001b[0m\u001b[1;33m(\u001b[0m\u001b[1;33m)\u001b[0m\u001b[1;33m\u001b[0m\u001b[0m\n\u001b[1;32m----> 2\u001b[1;33m \u001b[0mX_min\u001b[0m \u001b[1;33m=\u001b[0m \u001b[0mX\u001b[0m\u001b[1;33m.\u001b[0m\u001b[0mmin\u001b[0m\u001b[1;33m(\u001b[0m\u001b[1;33m)\u001b[0m\u001b[1;33m\u001b[0m\u001b[0m\n\u001b[0m\u001b[0;32m      3\u001b[0m \u001b[0mX_max\u001b[0m \u001b[1;33m=\u001b[0m \u001b[0mX\u001b[0m\u001b[1;33m.\u001b[0m\u001b[0mmax\u001b[0m\u001b[1;33m(\u001b[0m\u001b[1;33m)\u001b[0m\u001b[1;33m\u001b[0m\u001b[0m\n\u001b[0;32m      4\u001b[0m \u001b[0mcounter\u001b[0m \u001b[1;33m=\u001b[0m \u001b[0mlen\u001b[0m\u001b[1;33m(\u001b[0m\u001b[0mregression_coef\u001b[0m\u001b[1;33m)\u001b[0m\u001b[1;33m\u001b[0m\u001b[0m\n\u001b[0;32m      5\u001b[0m \u001b[1;32mfor\u001b[0m \u001b[0mW\u001b[0m\u001b[1;33m,\u001b[0m \u001b[0mb\u001b[0m \u001b[1;32min\u001b[0m \u001b[0mregression_coef\u001b[0m\u001b[1;33m:\u001b[0m\u001b[1;33m\u001b[0m\u001b[0m\n",
      "\u001b[1;31mNameError\u001b[0m: name 'X' is not defined"
     ]
    },
    {
     "data": {
      "text/plain": [
       "<matplotlib.figure.Figure at 0x240c8024b38>"
      ]
     },
     "metadata": {},
     "output_type": "display_data"
    }
   ],
   "source": [
    "plt.figure()\n",
    "X_min = X.min()\n",
    "X_max = X.max()\n",
    "counter = len(regression_coef)\n",
    "for W, b in regression_coef:\n",
    "    counter -= 1\n",
    "    color = [1 - 0.92 ** counter for _ in range(3)]\n",
    "    plt.plot([X_min, X_max],[X_min * W + b, X_max * W + b], color = color)\n",
    "plt.scatter(X, y, zorder = 3)\n",
    "plt.show()"
   ]
  },
  {
   "cell_type": "code",
   "execution_count": 123,
   "metadata": {},
   "outputs": [
    {
     "data": {
      "text/plain": [
       "array([[-7.24070e-01],\n",
       "       [-2.40724e+00],\n",
       "       [ 2.64837e+00],\n",
       "       [ 3.60920e-01],\n",
       "       [ 6.73120e-01],\n",
       "       [-4.54600e-01],\n",
       "       [ 2.20168e+00],\n",
       "       [ 1.15605e+00],\n",
       "       [ 5.06940e-01],\n",
       "       [-8.59520e-01],\n",
       "       [-5.99700e-01],\n",
       "       [ 1.46804e+00],\n",
       "       [-1.05659e+00],\n",
       "       [ 1.29177e+00],\n",
       "       [-7.45650e-01],\n",
       "       [ 1.50330e-01],\n",
       "       [-1.49627e+00],\n",
       "       [-7.20710e-01],\n",
       "       [ 3.29240e-01],\n",
       "       [-2.80530e-01],\n",
       "       [-1.36115e+00],\n",
       "       [ 7.46780e-01],\n",
       "       [ 1.06210e-01],\n",
       "       [ 3.25600e-02],\n",
       "       [-9.82900e-01],\n",
       "       [-1.15661e+00],\n",
       "       [ 9.02400e-02],\n",
       "       [-1.03816e+00],\n",
       "       [-6.04000e-03],\n",
       "       [ 1.62780e-01],\n",
       "       [-6.98690e-01],\n",
       "       [ 1.03857e+00],\n",
       "       [-1.17830e-01],\n",
       "       [-9.54090e-01],\n",
       "       [-8.18390e-01],\n",
       "       [-1.28802e+00],\n",
       "       [ 6.28220e-01],\n",
       "       [-2.29674e+00],\n",
       "       [-8.56010e-01],\n",
       "       [-1.75223e+00],\n",
       "       [-1.19662e+00],\n",
       "       [ 9.77810e-01],\n",
       "       [-1.17110e+00],\n",
       "       [ 1.58350e-01],\n",
       "       [-5.89180e-01],\n",
       "       [-1.79678e+00],\n",
       "       [-9.57270e-01],\n",
       "       [ 6.45560e-01],\n",
       "       [ 2.46250e-01],\n",
       "       [ 4.59170e-01],\n",
       "       [ 1.21036e+00],\n",
       "       [-6.01160e-01],\n",
       "       [ 2.68510e-01],\n",
       "       [ 4.95940e-01],\n",
       "       [-2.67877e+00],\n",
       "       [ 4.94020e-01],\n",
       "       [ 1.18643e+00],\n",
       "       [-1.77410e-01],\n",
       "       [ 5.79380e-01],\n",
       "       [-2.14926e+00],\n",
       "       [ 2.27700e+00],\n",
       "       [-1.05695e+00],\n",
       "       [ 1.68288e+00],\n",
       "       [-1.53513e+00],\n",
       "       [ 9.90000e-04],\n",
       "       [ 4.55200e-01],\n",
       "       [-3.78550e-01],\n",
       "       [ 1.35638e+00],\n",
       "       [ 1.76300e-02],\n",
       "       [ 2.21725e+00],\n",
       "       [-4.44420e-01],\n",
       "       [ 8.95830e-01],\n",
       "       [ 1.30499e+00],\n",
       "       [ 1.08830e-01],\n",
       "       [ 1.79466e+00],\n",
       "       [-7.33000e-03],\n",
       "       [ 7.98620e-01],\n",
       "       [-1.23530e-01],\n",
       "       [-1.34999e+00],\n",
       "       [-6.78250e-01],\n",
       "       [-1.79010e-01],\n",
       "       [ 1.25770e-01],\n",
       "       [ 1.11943e+00],\n",
       "       [-3.02296e+00],\n",
       "       [ 6.49650e-01],\n",
       "       [ 1.05994e+00],\n",
       "       [ 5.33600e-01],\n",
       "       [-7.35910e-01],\n",
       "       [-9.56900e-02],\n",
       "       [ 1.04694e+00],\n",
       "       [ 4.65110e-01],\n",
       "       [-7.54630e-01],\n",
       "       [-9.41590e-01],\n",
       "       [-9.31400e-02],\n",
       "       [-9.86410e-01],\n",
       "       [-9.21590e-01],\n",
       "       [ 7.69530e-01],\n",
       "       [ 3.28300e-02],\n",
       "       [-1.07619e+00],\n",
       "       [ 2.01740e-01]])"
      ]
     },
     "execution_count": 123,
     "metadata": {},
     "output_type": "execute_result"
    }
   ],
   "source": [
    "X"
   ]
  },
  {
   "cell_type": "markdown",
   "metadata": {},
   "source": []
  }
 ],
 "metadata": {
  "kernelspec": {
   "display_name": "Python [default]",
   "language": "python",
   "name": "python3"
  },
  "language_info": {
   "codemirror_mode": {
    "name": "ipython",
    "version": 3
   },
   "file_extension": ".py",
   "mimetype": "text/x-python",
   "name": "python",
   "nbconvert_exporter": "python",
   "pygments_lexer": "ipython3",
   "version": "3.6.4"
  }
 },
 "nbformat": 4,
 "nbformat_minor": 2
}
