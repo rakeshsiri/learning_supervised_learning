{
 "cells": [
  {
   "cell_type": "code",
   "execution_count": 112,
   "metadata": {},
   "outputs": [],
   "source": [
    "import pandas as pd\n",
    "import numpy as np\n",
    "import scipy.stats as st"
   ]
  },
  {
   "cell_type": "code",
   "execution_count": 2,
   "metadata": {},
   "outputs": [],
   "source": [
    "bugs=pd.read_csv('ml-bugs.csv')"
   ]
  },
  {
   "cell_type": "code",
   "execution_count": 3,
   "metadata": {},
   "outputs": [
    {
     "data": {
      "text/html": [
       "<div>\n",
       "<style scoped>\n",
       "    .dataframe tbody tr th:only-of-type {\n",
       "        vertical-align: middle;\n",
       "    }\n",
       "\n",
       "    .dataframe tbody tr th {\n",
       "        vertical-align: top;\n",
       "    }\n",
       "\n",
       "    .dataframe thead th {\n",
       "        text-align: right;\n",
       "    }\n",
       "</style>\n",
       "<table border=\"1\" class=\"dataframe\">\n",
       "  <thead>\n",
       "    <tr style=\"text-align: right;\">\n",
       "      <th></th>\n",
       "      <th>Species</th>\n",
       "      <th>Color</th>\n",
       "      <th>Length (mm)</th>\n",
       "    </tr>\n",
       "  </thead>\n",
       "  <tbody>\n",
       "    <tr>\n",
       "      <th>0</th>\n",
       "      <td>Mobug</td>\n",
       "      <td>Brown</td>\n",
       "      <td>11.6</td>\n",
       "    </tr>\n",
       "    <tr>\n",
       "      <th>1</th>\n",
       "      <td>Mobug</td>\n",
       "      <td>Blue</td>\n",
       "      <td>16.3</td>\n",
       "    </tr>\n",
       "    <tr>\n",
       "      <th>2</th>\n",
       "      <td>Lobug</td>\n",
       "      <td>Blue</td>\n",
       "      <td>15.1</td>\n",
       "    </tr>\n",
       "    <tr>\n",
       "      <th>3</th>\n",
       "      <td>Lobug</td>\n",
       "      <td>Green</td>\n",
       "      <td>23.7</td>\n",
       "    </tr>\n",
       "    <tr>\n",
       "      <th>4</th>\n",
       "      <td>Lobug</td>\n",
       "      <td>Blue</td>\n",
       "      <td>18.4</td>\n",
       "    </tr>\n",
       "  </tbody>\n",
       "</table>\n",
       "</div>"
      ],
      "text/plain": [
       "  Species  Color  Length (mm)\n",
       "0   Mobug  Brown         11.6\n",
       "1   Mobug   Blue         16.3\n",
       "2   Lobug   Blue         15.1\n",
       "3   Lobug  Green         23.7\n",
       "4   Lobug   Blue         18.4"
      ]
     },
     "execution_count": 3,
     "metadata": {},
     "output_type": "execute_result"
    }
   ],
   "source": [
    "bugs.head()"
   ]
  },
  {
   "cell_type": "code",
   "execution_count": 120,
   "metadata": {},
   "outputs": [
    {
     "data": {
      "text/plain": [
       "True"
      ]
     },
     "execution_count": 120,
     "metadata": {},
     "output_type": "execute_result"
    }
   ],
   "source": [
    "def entropy(ar):\n",
    "    ar=np.array(ar)\n",
    "    count_total=ar.sum()\n",
    "    return np.round(-np.sum(np.log2(ar/count_total)*(ar/count_total)),4)\n",
    "entropy([1,2])==np.round(st.entropy([1,2],base=2),4)"
   ]
  },
  {
   "cell_type": "code",
   "execution_count": 89,
   "metadata": {},
   "outputs": [],
   "source": [
    "def entropy_df(df): return entropy(df.groupby('Species')['Species'].count())"
   ]
  },
  {
   "cell_type": "code",
   "execution_count": 90,
   "metadata": {},
   "outputs": [
    {
     "data": {
      "text/plain": [
       "0.9799"
      ]
     },
     "execution_count": 90,
     "metadata": {},
     "output_type": "execute_result"
    }
   ],
   "source": [
    "parent_entropy=entropy_df(bugs)\n",
    "parent_entropy"
   ]
  },
  {
   "cell_type": "code",
   "execution_count": 142,
   "metadata": {},
   "outputs": [
    {
     "name": "stdout",
     "output_type": "stream",
     "text": [
      "Information gain by Color: 0.0753\n",
      "color_entropy:\n",
      " Color\n",
      "Blue     0.9710\n",
      "Brown    0.9183\n",
      "Green    0.8113\n",
      "dtype: float64\n",
      "\n",
      "color_weights:\n",
      " Color\n",
      "Blue     0.416667\n",
      "Brown    0.250000\n",
      "Green    0.333333\n",
      "Name: Species, dtype: float64\n"
     ]
    }
   ],
   "source": [
    "color_entropy=bugs.groupby('Color').apply(entropy_df)\n",
    "color_weights=bugs.groupby('Color')['Species'].count()/len(bugs)\n",
    "\n",
    "color_info_gain=np.round(parent_entropy-np.sum(color_entropy*color_weights),4)\n",
    "print(f'Information gain by Color: {color_info_gain}')\n",
    "print('color_entropy:\\n',color_entropy)\n",
    "print('\\ncolor_weights:\\n',color_weights)"
   ]
  },
  {
   "cell_type": "code",
   "execution_count": 156,
   "metadata": {},
   "outputs": [],
   "source": [
    "def length_info_calc(mask):\n",
    "    bugs['condition']=np.where(mask,'small','big')\n",
    "\n",
    "    length_entropy=bugs.groupby('condition').apply(entropy_df)\n",
    "    length_weights=bugs.groupby('condition')['Species'].count()/len(bugs)\n",
    "\n",
    "    len_info_gain=np.round(parent_entropy-np.sum(length_entropy*length_weights),4)\n",
    "#     print(f'Information gain by Length: {len_info_gain}')\n",
    "#     print('length_entropy:\\n',length_entropy)\n",
    "#     print('\\nlength_weights:\\n',length_weights)\n",
    "    return len_info_gain\n",
    "\n",
    "blue_info_gain=length_info_calc(bugs['Color']=='Blue')\n",
    "brown_info_gain=length_info_calc(bugs['Color']=='Brown')\n",
    "green_info_gain=length_info_calc(bugs['Color']=='Green')\n",
    "\n",
    "len_info_gain_17=length_info_calc(bugs['Length (mm)']<17)\n",
    "len_info_gain_20=length_info_calc(bugs['Length (mm)']<20)"
   ]
  },
  {
   "cell_type": "markdown",
   "metadata": {},
   "source": [
    "### As grouping by length<17, gives maximum information gain, we consider that"
   ]
  },
  {
   "cell_type": "code",
   "execution_count": 157,
   "metadata": {},
   "outputs": [
    {
     "name": "stdout",
     "output_type": "stream",
     "text": [
      "0.0006 0.0428 0.0616 0.1008 0.1127\n"
     ]
    },
    {
     "data": {
      "text/plain": [
       "True"
      ]
     },
     "execution_count": 157,
     "metadata": {},
     "output_type": "execute_result"
    }
   ],
   "source": [
    "print(blue_info_gain,green_info_gain,brown_info_gain,len_info_gain_20,len_info_gain_17)\n",
    "blue_info_gain<green_info_gain<brown_info_gain<len_info_gain_20<len_info_gain_17"
   ]
  }
 ],
 "metadata": {
  "kernelspec": {
   "display_name": "Python [default]",
   "language": "python",
   "name": "python3"
  },
  "language_info": {
   "codemirror_mode": {
    "name": "ipython",
    "version": 3
   },
   "file_extension": ".py",
   "mimetype": "text/x-python",
   "name": "python",
   "nbconvert_exporter": "python",
   "pygments_lexer": "ipython3",
   "version": "3.6.4"
  }
 },
 "nbformat": 4,
 "nbformat_minor": 2
}
